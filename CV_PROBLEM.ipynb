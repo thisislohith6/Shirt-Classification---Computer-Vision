{
 "cells": [
  {
   "cell_type": "markdown",
   "metadata": {},
   "source": [
    "### GETTING DATA"
   ]
  },
  {
   "cell_type": "markdown",
   "metadata": {},
   "source": [
    " Import Necessary libraries"
   ]
  },
  {
   "cell_type": "code",
   "execution_count": 1,
   "metadata": {},
   "outputs": [],
   "source": [
    "import pandas as pd\n",
    "import matplotlib.cm as cm\n",
    "import matplotlib.pyplot as plt\n",
    "import numpy as np"
   ]
  },
  {
   "cell_type": "markdown",
   "metadata": {},
   "source": [
    "Change the directory "
   ]
  },
  {
   "cell_type": "code",
   "execution_count": 2,
   "metadata": {},
   "outputs": [
    {
     "name": "stdout",
     "output_type": "stream",
     "text": [
      "C:\\Users\\Hardik Airen\\CV ASSIGNMENT\\Vision_task_dataset_public\n"
     ]
    }
   ],
   "source": [
    "cd C:\\Users\\Hardik Airen\\CV ASSIGNMENT\\Vision_task_dataset_public"
   ]
  },
  {
   "cell_type": "markdown",
   "metadata": {},
   "source": [
    "Read pickle files using \"read_pickle\""
   ]
  },
  {
   "cell_type": "code",
   "execution_count": 3,
   "metadata": {},
   "outputs": [],
   "source": [
    "df_train = pd.read_pickle(\"train_image.pkl\")"
   ]
  },
  {
   "cell_type": "code",
   "execution_count": 4,
   "metadata": {},
   "outputs": [],
   "source": [
    "df_test = pd.read_pickle(\"test_image.pkl\")"
   ]
  },
  {
   "cell_type": "code",
   "execution_count": 5,
   "metadata": {},
   "outputs": [],
   "source": [
    "train_label = pd.read_pickle(\"train_label.pkl\")"
   ]
  },
  {
   "cell_type": "markdown",
   "metadata": {},
   "source": [
    "Convert df_train, df_test , train_label to NumPy array"
   ]
  },
  {
   "cell_type": "code",
   "execution_count": 6,
   "metadata": {},
   "outputs": [],
   "source": [
    "df_train = np.array(df_train)"
   ]
  },
  {
   "cell_type": "code",
   "execution_count": 7,
   "metadata": {},
   "outputs": [],
   "source": [
    "df_test = np.array(df_test)"
   ]
  },
  {
   "cell_type": "code",
   "execution_count": 8,
   "metadata": {},
   "outputs": [],
   "source": [
    "train_label = np.array(train_label)"
   ]
  },
  {
   "cell_type": "markdown",
   "metadata": {},
   "source": [
    "Get the shape of above NumPy arrays"
   ]
  },
  {
   "cell_type": "code",
   "execution_count": 9,
   "metadata": {},
   "outputs": [
    {
     "data": {
      "text/plain": [
       "(8000, 784)"
      ]
     },
     "execution_count": 9,
     "metadata": {},
     "output_type": "execute_result"
    }
   ],
   "source": [
    "df_train.shape"
   ]
  },
  {
   "cell_type": "code",
   "execution_count": 10,
   "metadata": {},
   "outputs": [
    {
     "data": {
      "text/plain": [
       "(2000, 784)"
      ]
     },
     "execution_count": 10,
     "metadata": {},
     "output_type": "execute_result"
    }
   ],
   "source": [
    "df_test.shape"
   ]
  },
  {
   "cell_type": "code",
   "execution_count": 11,
   "metadata": {},
   "outputs": [
    {
     "data": {
      "text/plain": [
       "(8000,)"
      ]
     },
     "execution_count": 11,
     "metadata": {},
     "output_type": "execute_result"
    }
   ],
   "source": [
    "train_label.shape"
   ]
  },
  {
   "cell_type": "markdown",
   "metadata": {},
   "source": [
    "Analysis of image using \"imshow\". Reshape the array to (28,28) pixels to get the image. For example image number 6 of training data and image number 556 of test data"
   ]
  },
  {
   "cell_type": "code",
   "execution_count": 12,
   "metadata": {},
   "outputs": [
    {
     "data": {
      "text/plain": [
       "<matplotlib.image.AxesImage at 0x1adaff68400>"
      ]
     },
     "execution_count": 12,
     "metadata": {},
     "output_type": "execute_result"
    },
    {
     "data": {
      "image/png": "[encoded data removed]",
      "text/plain": [
       "<Figure size 432x288 with 1 Axes>"
      ]
     },
     "metadata": {
      "needs_background": "light"
     },
     "output_type": "display_data"
    }
   ],
   "source": [
    "plt.imshow(np.array(df_train[5]).reshape((28, 28)), cmap=cm.Greys_r)"
   ]
  },
  {
   "cell_type": "code",
   "execution_count": 13,
   "metadata": {},
   "outputs": [
    {
     "data": {
      "text/plain": [
       "<matplotlib.image.AxesImage at 0x1adb2fde5f8>"
      ]
     },
     "execution_count": 13,
     "metadata": {},
     "output_type": "execute_result"
    },
    {
     "data": {
      "image/png": "[encoded data removed]",
      "text/plain": [
       "<Figure size 432x288 with 1 Axes>"
      ]
     },
     "metadata": {
      "needs_background": "light"
     },
     "output_type": "display_data"
    }
   ],
   "source": [
    "plt.imshow(np.array(df_test[555]).reshape((28, 28)), cmap=cm.Greys_r)"
   ]
  },
  {
   "cell_type": "markdown",
   "metadata": {},
   "source": [
    "Convert the classes 0,2,3,6 to 0,1,2,3 respectively for the analysis and modelling"
   ]
  },
  {
   "cell_type": "code",
   "execution_count": 15,
   "metadata": {},
   "outputs": [],
   "source": [
    "def func(b):\n",
    "    if(b==0):\n",
    "        return 0\n",
    "    if(b==2):\n",
    "        return 1\n",
    "    if(b==3):\n",
    "        return 2\n",
    "    if(b==6):\n",
    "        return 3\n",
    "    \n",
    "train_label = np.vectorize(func)(train_label)"
   ]
  },
  {
   "cell_type": "markdown",
   "metadata": {},
   "source": [
    "Plot the Histogram for the 4 classes to get the number of images of each class"
   ]
  },
  {
   "cell_type": "code",
   "execution_count": 16,
   "metadata": {},
   "outputs": [
    {
     "data": {
      "text/plain": [
       "(array([2000.,    0.,    0., 2000.,    0.,    0., 2000.,    0.,    0.,\n",
       "        2000.]),\n",
       " array([0. , 0.3, 0.6, 0.9, 1.2, 1.5, 1.8, 2.1, 2.4, 2.7, 3. ]),\n",
       " <a list of 10 Patch objects>)"
      ]
     },
     "execution_count": 16,
     "metadata": {},
     "output_type": "execute_result"
    },
    {
     "data": {
      "image/png": "[encoded data removed]",
      "text/plain": [
       "<Figure size 432x288 with 1 Axes>"
      ]
     },
     "metadata": {
      "needs_background": "light"
     },
     "output_type": "display_data"
    }
   ],
   "source": [
    "plt.hist(train_label, bins=10, range=None, normed=None, weights=None, density=None)"
   ]
  },
  {
   "cell_type": "markdown",
   "metadata": {},
   "source": [
    "### BASIC MODEL LIKE RANDOM FOREST"
   ]
  },
  {
   "cell_type": "markdown",
   "metadata": {},
   "source": [
    "Import the libraries for different models like Logistic Regression,Random Forests etc."
   ]
  },
  {
   "cell_type": "code",
   "execution_count": 17,
   "metadata": {},
   "outputs": [],
   "source": [
    "from sklearn import linear_model\n",
    "from sklearn.linear_model import LogisticRegression\n",
    "from sklearn.ensemble import RandomForestClassifier\n",
    "from sklearn.linear_model import Perceptron\n",
    "from sklearn.linear_model import SGDClassifier\n",
    "from sklearn.tree import DecisionTreeClassifier\n",
    "from sklearn.neighbors import KNeighborsClassifier\n",
    "from sklearn.svm import SVC, LinearSVC\n",
    "from sklearn.naive_bayes import GaussianNB"
   ]
  },
  {
   "cell_type": "markdown",
   "metadata": {},
   "source": [
    "Observing the behaviour by just trying Random Forest model. I got the accuracy 100%. Which means it is the case of Overfitting."
   ]
  },
  {
   "cell_type": "code",
   "execution_count": 47,
   "metadata": {},
   "outputs": [
    {
     "name": "stdout",
     "output_type": "stream",
     "text": [
      "100.0 %\n"
     ]
    }
   ],
   "source": [
    "random_forest = RandomForestClassifier(n_estimators=100)\n",
    "random_forest.fit(df_train, train_label)\n",
    "Y_prediction = random_forest.predict(df_test)\n",
    "random_forest.score(df_train, train_label)\n",
    "acc_random_forest = round(random_forest.score(df_train, train_label) * 100, 2)\n",
    "print(round(acc_random_forest,2,), \"%\")\n"
   ]
  },
  {
   "cell_type": "markdown",
   "metadata": {},
   "source": [
    "Split the training data(Number of examples=8000) to X_train(size=7200) and X_test(size=800) using \"train_test_split\". Using X_train for validation accuracy."
   ]
  },
  {
   "cell_type": "code",
   "execution_count": 18,
   "metadata": {},
   "outputs": [],
   "source": [
    " from sklearn.model_selection import train_test_split"
   ]
  },
  {
   "cell_type": "code",
   "execution_count": 19,
   "metadata": {},
   "outputs": [],
   "source": [
    "X_train, X_test, y_train, y_test = train_test_split(df_train, train_label, test_size=0.1, random_state=42)"
   ]
  },
  {
   "cell_type": "markdown",
   "metadata": {},
   "source": [
    "Now apply the Random Forests model. Getting the accuracy of 81.5 on the X_test data(random 800 images from training data)"
   ]
  },
  {
   "cell_type": "code",
   "execution_count": 21,
   "metadata": {},
   "outputs": [
    {
     "name": "stdout",
     "output_type": "stream",
     "text": [
      "81.5 %\n"
     ]
    }
   ],
   "source": [
    "random_forest = RandomForestClassifier(n_estimators=100)\n",
    "random_forest.fit(X_train, y_train)\n",
    "Y_prediction = random_forest.predict(X_test)\n",
    "random_forest.score(X_test,y_test)\n",
    "acc_random_forest = round(random_forest.score(X_test, y_test) * 100, 2)\n",
    "print(round(acc_random_forest,2,), \"%\")"
   ]
  },
  {
   "cell_type": "markdown",
   "metadata": {},
   "source": [
    "Observing how model is doing using the code given below to get scores,mean and standard deviation"
   ]
  },
  {
   "cell_type": "code",
   "execution_count": 22,
   "metadata": {},
   "outputs": [
    {
     "name": "stdout",
     "output_type": "stream",
     "text": [
      "Scores: [0.84626039 0.81440443 0.82662968 0.83611111 0.86527778 0.83588317\n",
      " 0.84144645 0.84561892 0.82197497 0.82058414]\n",
      "Mean: 0.8354191039345313\n",
      "Standard Deviation: 0.014386884415434792\n"
     ]
    }
   ],
   "source": [
    "from sklearn.model_selection import cross_val_score\n",
    "rf = RandomForestClassifier(n_estimators=100)\n",
    "scores = cross_val_score(rf, X_train, y_train, cv=10, scoring = \"accuracy\")\n",
    "\n",
    "print(\"Scores:\", scores)\n",
    "print(\"Mean:\", scores.mean())\n",
    "print(\"Standard Deviation:\", scores.std())\n"
   ]
  },
  {
   "cell_type": "markdown",
   "metadata": {},
   "source": [
    "### ENSEMBLE MODEL"
   ]
  },
  {
   "cell_type": "markdown",
   "metadata": {},
   "source": [
    "Applying the Ensemble model to improve the accuracy.I used Logistic Regression,Random Forests,Decision Trees"
   ]
  },
  {
   "cell_type": "code",
   "execution_count": null,
   "metadata": {},
   "outputs": [],
   "source": [
    "from sklearn.ensemble import VotingClassifier\n",
    "LogClf = LogisticRegression()\n",
    "RndClf = RandomForestClassifier()\n",
    "DecClf = DecisionTreeClassifier()\n",
    "voting_clf = VotingClassifier(estimators = [('rf',RndClf) , ('dt' , DecClf)],voting='soft')\n",
    "voting_clf.fit(X_train,y_train)"
   ]
  },
  {
   "cell_type": "markdown",
   "metadata": {},
   "source": [
    "As the shapes of y_train is (7200,). Reshaping it into (7200,1) for to get metrics like accuracy score."
   ]
  },
  {
   "cell_type": "code",
   "execution_count": 31,
   "metadata": {},
   "outputs": [
    {
     "data": {
      "text/plain": [
       "(7200,)"
      ]
     },
     "execution_count": 31,
     "metadata": {},
     "output_type": "execute_result"
    }
   ],
   "source": [
    "y_train.shape"
   ]
  },
  {
   "cell_type": "code",
   "execution_count": 38,
   "metadata": {},
   "outputs": [],
   "source": [
    "y_train = y_train.reshape((-1,1))"
   ]
  },
  {
   "cell_type": "code",
   "execution_count": 39,
   "metadata": {},
   "outputs": [
    {
     "data": {
      "text/plain": [
       "(7200, 1)"
      ]
     },
     "execution_count": 39,
     "metadata": {},
     "output_type": "execute_result"
    }
   ],
   "source": [
    "y_train.shape"
   ]
  },
  {
   "cell_type": "markdown",
   "metadata": {},
   "source": [
    "Get the predicted class for X_test(size=800) using \"predict\""
   ]
  },
  {
   "cell_type": "code",
   "execution_count": 40,
   "metadata": {},
   "outputs": [
    {
     "name": "stderr",
     "output_type": "stream",
     "text": [
      "G:\\Anaconda3\\lib\\site-packages\\sklearn\\ensemble\\forest.py:246: FutureWarning: The default value of n_estimators will change from 10 in version 0.20 to 100 in 0.22.\n",
      "  \"10 in version 0.20 to 100 in 0.22.\", FutureWarning)\n",
      "G:\\Anaconda3\\lib\\site-packages\\ipykernel_launcher.py:3: DataConversionWarning: A column-vector y was passed when a 1d array was expected. Please change the shape of y to (n_samples,), for example using ravel().\n",
      "  This is separate from the ipykernel package so we can avoid doing imports until\n",
      "G:\\Anaconda3\\lib\\site-packages\\sklearn\\preprocessing\\label.py:219: DataConversionWarning: A column-vector y was passed when a 1d array was expected. Please change the shape of y to (n_samples, ), for example using ravel().\n",
      "  y = column_or_1d(y, warn=True)\n",
      "G:\\Anaconda3\\lib\\site-packages\\sklearn\\preprocessing\\label.py:252: DataConversionWarning: A column-vector y was passed when a 1d array was expected. Please change the shape of y to (n_samples, ), for example using ravel().\n",
      "  y = column_or_1d(y, warn=True)\n"
     ]
    }
   ],
   "source": [
    "from sklearn.metrics import accuracy_score\n",
    "for clf in (RndClf ,DecClf,voting_clf):\n",
    "    clf.fit(X_train,y_train)\n",
    "    y_pred=clf.predict(X_test)"
   ]
  },
  {
   "cell_type": "markdown",
   "metadata": {},
   "source": [
    "Reshape y_pred and y_test from (800,)  to (800,1)"
   ]
  },
  {
   "cell_type": "code",
   "execution_count": 48,
   "metadata": {},
   "outputs": [],
   "source": [
    "y_pred = y_pred.reshape((-1,1))\n",
    "y_test = y_test.reshape((-1,1))"
   ]
  },
  {
   "cell_type": "markdown",
   "metadata": {},
   "source": [
    "Import classification report which will print the Precision , Recall , F1 Score for each class"
   ]
  },
  {
   "cell_type": "code",
   "execution_count": 62,
   "metadata": {},
   "outputs": [],
   "source": [
    "from sklearn.metrics import classification_report"
   ]
  },
  {
   "cell_type": "code",
   "execution_count": 64,
   "metadata": {},
   "outputs": [
    {
     "name": "stdout",
     "output_type": "stream",
     "text": [
      "              precision    recall  f1-score   support\n",
      "\n",
      "           0       0.77      0.76      0.76       217\n",
      "           1       0.78      0.79      0.78       195\n",
      "           2       0.86      0.83      0.84       180\n",
      "           3       0.62      0.63      0.63       208\n",
      "\n",
      "   micro avg       0.75      0.75      0.75       800\n",
      "   macro avg       0.76      0.75      0.75       800\n",
      "weighted avg       0.75      0.75      0.75       800\n",
      "\n"
     ]
    }
   ],
   "source": [
    "print(classification_report(y_test,y_pred))"
   ]
  },
  {
   "cell_type": "markdown",
   "metadata": {},
   "source": [
    "As the accuracy using Random Forests and other models and also the Ensemble model was not much appreciable now using CNN(Convolutional Neural Networks) to get the better accuracy"
   ]
  },
  {
   "cell_type": "markdown",
   "metadata": {},
   "source": [
    "### CNN MODEL USING KERAS"
   ]
  },
  {
   "cell_type": "code",
   "execution_count": 79,
   "metadata": {},
   "outputs": [],
   "source": [
    "import tensorflow as tf\n",
    "from tensorflow import keras\n",
    "from tensorflow.keras.preprocessing.image import ImageDataGenerator\n",
    "from tensorflow.keras.layers import Conv2D, MaxPooling2D\n",
    "from tensorflow.keras.layers import Dense, Dropout, Flatten, Activation\n",
    "from tensorflow.keras.models import Sequential\n",
    "from tensorflow.keras.callbacks import EarlyStopping, ReduceLROnPlateau, ModelCheckpoint\n",
    "from tensorflow.keras.optimizers import Adam\n",
    "\n",
    "import os\n",
    "import cv2\n",
    "\n",
    "from sklearn.utils import shuffle\n",
    "from sklearn.metrics import confusion_matrix\n",
    " \n",
    "import itertools\n",
    "import shutil\n",
    "import matplotlib.pyplot as plt\n",
    "%matplotlib inline"
   ]
  },
  {
   "cell_type": "markdown",
   "metadata": {},
   "source": [
    "Reshaping X_train from (7200,784) to (7200,28,28,1) and X_test from (800,784) to (800,28,28,1) to fit them in CNN model"
   ]
  },
  {
   "cell_type": "code",
   "execution_count": 83,
   "metadata": {},
   "outputs": [],
   "source": [
    "X_train = X_train.reshape(7200,28,28,1)\n",
    "X_test = X_test.reshape(800,28,28,1)"
   ]
  },
  {
   "cell_type": "markdown",
   "metadata": {},
   "source": [
    "Use one hot encoding for y_train and y_test. This will convert categorical values to one-hot encoding.For eg. class 2 will be represented in form [0,1,0,0] and class 6 in form [0,0,0,1]"
   ]
  },
  {
   "cell_type": "code",
   "execution_count": 84,
   "metadata": {},
   "outputs": [
    {
     "name": "stderr",
     "output_type": "stream",
     "text": [
      "Using TensorFlow backend.\n"
     ]
    },
    {
     "data": {
      "text/plain": [
       "array([0., 0., 0., 1.], dtype=float32)"
      ]
     },
     "execution_count": 84,
     "metadata": {},
     "output_type": "execute_result"
    }
   ],
   "source": [
    "from keras.utils import to_categorical\n",
    "y_train = to_categorical(y_train)\n",
    "y_test = to_categorical(y_test)\n",
    "y_train[0]"
   ]
  },
  {
   "cell_type": "markdown",
   "metadata": {},
   "source": [
    "Architecture of CNN Model\n",
    "1st layer with 32 filters and Acitivation function \"Relu\" and so on.Using Softmax Regression activation function after the final layer to get the predicted output."
   ]
  },
  {
   "cell_type": "code",
   "execution_count": 139,
   "metadata": {},
   "outputs": [
    {
     "name": "stdout",
     "output_type": "stream",
     "text": [
      "_________________________________________________________________\n",
      "Layer (type)                 Output Shape              Param #   \n",
      "=================================================================\n",
      "conv2d_50 (Conv2D)           (None, 26, 26, 32)        320       \n",
      "_________________________________________________________________\n",
      "conv2d_51 (Conv2D)           (None, 24, 24, 32)        9248      \n",
      "_________________________________________________________________\n",
      "conv2d_52 (Conv2D)           (None, 22, 22, 32)        9248      \n",
      "_________________________________________________________________\n",
      "conv2d_53 (Conv2D)           (None, 20, 20, 64)        18496     \n",
      "_________________________________________________________________\n",
      "conv2d_54 (Conv2D)           (None, 18, 18, 64)        36928     \n",
      "_________________________________________________________________\n",
      "conv2d_55 (Conv2D)           (None, 16, 16, 64)        36928     \n",
      "_________________________________________________________________\n",
      "conv2d_56 (Conv2D)           (None, 14, 14, 128)       73856     \n",
      "_________________________________________________________________\n",
      "conv2d_57 (Conv2D)           (None, 12, 12, 128)       147584    \n",
      "_________________________________________________________________\n",
      "conv2d_58 (Conv2D)           (None, 10, 10, 128)       147584    \n",
      "_________________________________________________________________\n",
      "flatten_5 (Flatten)          (None, 12800)             0         \n",
      "_________________________________________________________________\n",
      "dense_5 (Dense)              (None, 4)                 51204     \n",
      "=================================================================\n",
      "Total params: 531,396\n",
      "Trainable params: 531,396\n",
      "Non-trainable params: 0\n",
      "_________________________________________________________________\n"
     ]
    }
   ],
   "source": [
    "pool_size= (2,2)\n",
    "\n",
    "dropout_conv = 0.3\n",
    "dropout_dense = 0.3\n",
    "\n",
    "\n",
    "model = Sequential()\n",
    "model.add(Conv2D(32, kernel_size=3, activation = 'relu', input_shape = (28, 28, 1)))\n",
    "model.add(Conv2D(32, kernel_size=3, activation = 'relu'))\n",
    "model.add(Conv2D(32, kernel_size=3, activation = 'relu'))\n",
    " \n",
    "\n",
    "model.add(Conv2D(64, kernel_size=3, activation ='relu'))\n",
    "model.add(Conv2D(64, kernel_size=3, activation ='relu'))\n",
    "model.add(Conv2D(64, kernel_size=3, activation ='relu'))\n",
    " \n",
    "\n",
    "model.add(Conv2D(128, kernel_size=3, activation ='relu'))\n",
    "model.add(Conv2D(128, kernel_size=3, activation ='relu'))\n",
    "model.add(Conv2D(128, kernel_size=3, activation ='relu'))\n",
    " \n",
    "model.add(Flatten())\n",
    "model.add(Dense(4, activation = \"softmax\"))\n",
    "\n",
    "model.summary()"
   ]
  },
  {
   "cell_type": "markdown",
   "metadata": {},
   "source": [
    "Compile the Sequential Model with Adam Optimizer and checking it with metric \"accuracy\""
   ]
  },
  {
   "cell_type": "code",
   "execution_count": 140,
   "metadata": {},
   "outputs": [],
   "source": [
    "model.compile(optimizer='adam', loss='categorical_crossentropy', metrics=['accuracy'])"
   ]
  },
  {
   "cell_type": "markdown",
   "metadata": {},
   "source": [
    "Fit the model with validation data X_train and y_train and running it with Epochs=30"
   ]
  },
  {
   "cell_type": "code",
   "execution_count": 144,
   "metadata": {},
   "outputs": [
    {
     "name": "stdout",
     "output_type": "stream",
     "text": [
      "Train on 7200 samples, validate on 800 samples\n",
      "Epoch 1/30\n",
      "7200/7200 [==============================] - 204s 28ms/step - loss: 0.3545 - acc: 0.8812 - val_loss: 0.5255 - val_acc: 0.8363\n",
      "Epoch 2/30\n",
      "7200/7200 [==============================] - 187s 26ms/step - loss: 0.1843 - acc: 0.9337 - val_loss: 0.6492 - val_acc: 0.8075\n",
      "Epoch 3/30\n",
      "7200/7200 [==============================] - 208s 29ms/step - loss: 0.1170 - acc: 0.9571 - val_loss: 0.6497 - val_acc: 0.8050\n",
      "Epoch 4/30\n",
      "7200/7200 [==============================] - 218s 30ms/step - loss: 0.0859 - acc: 0.9699 - val_loss: 0.7408 - val_acc: 0.8187\n",
      "Epoch 5/30\n",
      "7200/7200 [==============================] - 217s 30ms/step - loss: 0.0585 - acc: 0.9769 - val_loss: 0.6794 - val_acc: 0.8488\n",
      "Epoch 6/30\n",
      "7200/7200 [==============================] - 224s 31ms/step - loss: 0.0344 - acc: 0.9878 - val_loss: 0.7722 - val_acc: 0.8375\n",
      "Epoch 7/30\n",
      "7200/7200 [==============================] - 233s 32ms/step - loss: 0.0376 - acc: 0.9863 - val_loss: 0.9942 - val_acc: 0.8163\n",
      "Epoch 8/30\n",
      "7200/7200 [==============================] - 237s 33ms/step - loss: 0.0533 - acc: 0.9817 - val_loss: 0.9071 - val_acc: 0.8237\n",
      "Epoch 9/30\n",
      "7200/7200 [==============================] - 244s 34ms/step - loss: 0.0341 - acc: 0.9883 - val_loss: 0.7068 - val_acc: 0.8475\n",
      "Epoch 10/30\n",
      "7200/7200 [==============================] - 244s 34ms/step - loss: 0.0379 - acc: 0.9882 - val_loss: 0.7892 - val_acc: 0.8450\n",
      "Epoch 11/30\n",
      "7200/7200 [==============================] - 229s 32ms/step - loss: 0.0529 - acc: 0.9806 - val_loss: 0.9089 - val_acc: 0.8462\n",
      "Epoch 12/30\n",
      "7200/7200 [==============================] - 251s 35ms/step - loss: 0.0251 - acc: 0.9913 - val_loss: 0.7669 - val_acc: 0.8512\n",
      "Epoch 13/30\n",
      "7200/7200 [==============================] - 220s 31ms/step - loss: 0.0096 - acc: 0.9971 - val_loss: 0.9637 - val_acc: 0.8213\n",
      "Epoch 14/30\n",
      "7200/7200 [==============================] - 220s 31ms/step - loss: 0.0303 - acc: 0.9904 - val_loss: 0.8340 - val_acc: 0.8237\n",
      "Epoch 15/30\n",
      "7200/7200 [==============================] - 221s 31ms/step - loss: 0.0343 - acc: 0.9883 - val_loss: 0.9174 - val_acc: 0.8488\n",
      "Epoch 16/30\n",
      "7200/7200 [==============================] - 218s 30ms/step - loss: 0.0368 - acc: 0.9869 - val_loss: 0.8482 - val_acc: 0.8550\n",
      "Epoch 17/30\n",
      "7200/7200 [==============================] - 220s 31ms/step - loss: 0.0432 - acc: 0.9851 - val_loss: 0.9011 - val_acc: 0.8450\n",
      "Epoch 18/30\n",
      "7200/7200 [==============================] - 220s 31ms/step - loss: 0.0155 - acc: 0.9946 - val_loss: 0.8458 - val_acc: 0.8425\n",
      "Epoch 19/30\n",
      "7200/7200 [==============================] - 221s 31ms/step - loss: 0.0128 - acc: 0.9962 - val_loss: 0.9509 - val_acc: 0.8438\n",
      "Epoch 20/30\n",
      "7200/7200 [==============================] - 220s 31ms/step - loss: 0.0185 - acc: 0.9940 - val_loss: 0.8906 - val_acc: 0.8538\n",
      "Epoch 21/30\n",
      "7200/7200 [==============================] - 221s 31ms/step - loss: 0.0361 - acc: 0.9872 - val_loss: 0.8801 - val_acc: 0.8363\n",
      "Epoch 22/30\n",
      "7200/7200 [==============================] - 221s 31ms/step - loss: 0.0249 - acc: 0.9924 - val_loss: 1.0202 - val_acc: 0.8400\n",
      "Epoch 23/30\n",
      "7200/7200 [==============================] - 222s 31ms/step - loss: 0.0210 - acc: 0.9925 - val_loss: 0.9744 - val_acc: 0.8500\n",
      "Epoch 24/30\n",
      "7200/7200 [==============================] - 221s 31ms/step - loss: 0.0201 - acc: 0.9935 - val_loss: 1.1123 - val_acc: 0.8425\n",
      "Epoch 25/30\n",
      "7200/7200 [==============================] - 222s 31ms/step - loss: 0.0429 - acc: 0.9867 - val_loss: 0.9984 - val_acc: 0.8462\n",
      "Epoch 26/30\n",
      "7200/7200 [==============================] - 222s 31ms/step - loss: 0.0182 - acc: 0.9931 - val_loss: 0.9657 - val_acc: 0.8313\n",
      "Epoch 27/30\n",
      "7200/7200 [==============================] - 221s 31ms/step - loss: 0.0071 - acc: 0.9979 - val_loss: 0.9562 - val_acc: 0.8575\n",
      "Epoch 28/30\n",
      "7200/7200 [==============================] - 223s 31ms/step - loss: 0.0044 - acc: 0.9985 - val_loss: 0.9814 - val_acc: 0.8562\n",
      "Epoch 29/30\n",
      "7200/7200 [==============================] - 223s 31ms/step - loss: 0.0023 - acc: 0.9990 - val_loss: 0.9972 - val_acc: 0.8500\n",
      "Epoch 30/30\n",
      "7200/7200 [==============================] - 222s 31ms/step - loss: 0.0416 - acc: 0.9886 - val_loss: 0.8535 - val_acc: 0.8712\n"
     ]
    },
    {
     "data": {
      "text/plain": [
       "<keras.callbacks.History at 0x1add6416240>"
      ]
     },
     "execution_count": 144,
     "metadata": {},
     "output_type": "execute_result"
    }
   ],
   "source": [
    "model.fit(X_train, y_train, validation_data=(X_test, y_test), epochs= 30)"
   ]
  },
  {
   "cell_type": "markdown",
   "metadata": {},
   "source": [
    "As I increased the number of Epochs the validation accuracy (val_acc). For 15 epochs I got the val_acc around 85% and with 30 epochs val_acc increased to 87.12%"
   ]
  },
  {
   "cell_type": "markdown",
   "metadata": {},
   "source": [
    "### IMAGE DATA GENERATOR"
   ]
  },
  {
   "cell_type": "markdown",
   "metadata": {},
   "source": [
    "As the training data is small using Image Data Generator could be helpful. This ImageDataGenerator() will generate more Tensor arrays."
   ]
  },
  {
   "cell_type": "code",
   "execution_count": 112,
   "metadata": {},
   "outputs": [],
   "source": [
    "datagen = ImageDataGenerator()"
   ]
  },
  {
   "cell_type": "code",
   "execution_count": 122,
   "metadata": {},
   "outputs": [],
   "source": [
    "from keras.models import Model\n",
    "from keras.layers import Input, Dense"
   ]
  },
  {
   "cell_type": "markdown",
   "metadata": {},
   "source": [
    "Running ImageDataGenerator which generate new images and also normalizing them"
   ]
  },
  {
   "cell_type": "code",
   "execution_count": 134,
   "metadata": {},
   "outputs": [],
   "source": [
    "datagen = keras.preprocessing.image.ImageDataGenerator(featurewise_center=True, samplewise_center=False, featurewise_std_normalization=True, samplewise_std_normalization=False, zca_whitening=False, zca_epsilon=1e-06, rotation_range=20, width_shift_range=0.2, height_shift_range=0.2, brightness_range=None, shear_range=0.0, zoom_range=0.0, channel_shift_range=0.0, fill_mode='nearest', cval=0.0, horizontal_flip=True, vertical_flip=False, rescale=1/255.0, preprocessing_function=None, data_format=None, validation_split=0.0, dtype=None)"
   ]
  },
  {
   "cell_type": "markdown",
   "metadata": {},
   "source": [
    "Fitting X_train to Image Data Generator"
   ]
  },
  {
   "cell_type": "code",
   "execution_count": 135,
   "metadata": {
    "collapsed": true
   },
   "outputs": [],
   "source": [
    "datagen.fit(X_train)"
   ]
  },
  {
   "cell_type": "markdown",
   "metadata": {},
   "source": [
    "Running the fit_generator with \"flow\" command which will take the datagen as input and number of Epochs=3 to analyze the performance"
   ]
  },
  {
   "cell_type": "code",
   "execution_count": 131,
   "metadata": {},
   "outputs": [
    {
     "name": "stdout",
     "output_type": "stream",
     "text": [
      "Epoch 1/3\n",
      "256/256 [==============================] - 74s 288ms/step - loss: 0.3968 - acc: 0.8461\n",
      "Epoch 2/3\n",
      "256/256 [==============================] - 80s 312ms/step - loss: 0.3957 - acc: 0.8475\n",
      "Epoch 3/3\n",
      "256/256 [==============================] - 83s 322ms/step - loss: 0.3767 - acc: 0.8579\n"
     ]
    },
    {
     "data": {
      "text/plain": [
       "<keras.callbacks.History at 0x1adbb48af98>"
      ]
     },
     "execution_count": 131,
     "metadata": {},
     "output_type": "execute_result"
    }
   ],
   "source": [
    "model.fit_generator(datagen.flow(X_train, y_train, batch_size=32),\n",
    "                    steps_per_epoch= 256, epochs=3)"
   ]
  },
  {
   "cell_type": "markdown",
   "metadata": {},
   "source": [
    "Got the accuracy of 85.8%. But this is not a validation accuracy."
   ]
  },
  {
   "cell_type": "markdown",
   "metadata": {},
   "source": [
    "Checking the model on validation data i.e. (X_test,y_test)"
   ]
  },
  {
   "cell_type": "code",
   "execution_count": 133,
   "metadata": {},
   "outputs": [
    {
     "name": "stdout",
     "output_type": "stream",
     "text": [
      "Epoch 1/3\n",
      "1000/1000 [==============================] - 354s 354ms/step - loss: 0.3895 - acc: 0.8502 - val_loss: 9.2802 - val_acc: 0.3750\n",
      "Epoch 2/3\n",
      "1000/1000 [==============================] - 347s 347ms/step - loss: 0.3839 - acc: 0.8518 - val_loss: 10.0697 - val_acc: 0.3125\n",
      "Epoch 3/3\n",
      "1000/1000 [==============================] - 352s 352ms/step - loss: 0.3889 - acc: 0.8499 - val_loss: 9.5047 - val_acc: 0.3525\n"
     ]
    },
    {
     "data": {
      "text/plain": [
       "<keras.callbacks.History at 0x1adc566ac50>"
      ]
     },
     "execution_count": 133,
     "metadata": {},
     "output_type": "execute_result"
    }
   ],
   "source": [
    "model.fit_generator(datagen.flow(X_train, y_train, batch_size=32),validation_data=(X_test, y_test),\n",
    "                    steps_per_epoch= 1000, epochs=3)"
   ]
  },
  {
   "cell_type": "markdown",
   "metadata": {},
   "source": [
    "Got a poor validation accuracy of 35.25% after 3 epochs. Thus the fit generator is not performing well on this training data "
   ]
  },
  {
   "cell_type": "markdown",
   "metadata": {},
   "source": [
    "Sticking with the original CNN model which perfoms the best among all. The accuracy can be increased a little more by increasing the number of Epochs."
   ]
  },
  {
   "cell_type": "markdown",
   "metadata": {},
   "source": [
    "Converting the test data to shape (2000,28,28,1) for class prediction through CNN model"
   ]
  },
  {
   "cell_type": "code",
   "execution_count": 147,
   "metadata": {},
   "outputs": [],
   "source": [
    "df_test=df_test.reshape((2000,28,28,1))"
   ]
  },
  {
   "cell_type": "markdown",
   "metadata": {},
   "source": [
    "Use \"predict\" command for the prediction based on the CNN Model"
   ]
  },
  {
   "cell_type": "code",
   "execution_count": 284,
   "metadata": {},
   "outputs": [],
   "source": [
    "Y_prediction = model.predict(df_test)"
   ]
  },
  {
   "cell_type": "markdown",
   "metadata": {},
   "source": [
    "As the class predictions is in the form of one-hot encoding. So converting Y_prediction to categorical array using \"argmax\""
   ]
  },
  {
   "cell_type": "code",
   "execution_count": 285,
   "metadata": {},
   "outputs": [],
   "source": [
    "Y_pred = np.argmax(Y_prediction,1)"
   ]
  },
  {
   "cell_type": "markdown",
   "metadata": {},
   "source": [
    "Got the NumPy array Y_pred the form required with classes encoded as 0,1,2,3"
   ]
  },
  {
   "cell_type": "code",
   "execution_count": 286,
   "metadata": {},
   "outputs": [
    {
     "data": {
      "text/plain": [
       "array([0, 0, 0, ..., 3, 3, 3], dtype=int64)"
      ]
     },
     "execution_count": 286,
     "metadata": {},
     "output_type": "execute_result"
    }
   ],
   "source": [
    "Y_pred"
   ]
  },
  {
   "cell_type": "markdown",
   "metadata": {},
   "source": [
    "Plotting the Histogram of Y_pred to check the prediction results"
   ]
  },
  {
   "cell_type": "code",
   "execution_count": 287,
   "metadata": {},
   "outputs": [
    {
     "data": {
      "text/plain": [
       "(array([532.,   0.,   0., 511.,   0.,   0., 491.,   0.,   0., 466.]),\n",
       " array([0. , 0.3, 0.6, 0.9, 1.2, 1.5, 1.8, 2.1, 2.4, 2.7, 3. ]),\n",
       " <a list of 10 Patch objects>)"
      ]
     },
     "execution_count": 287,
     "metadata": {},
     "output_type": "execute_result"
    },
    {
     "data": {
      "image/png": "[encoded data removed]",
      "text/plain": [
       "<Figure size 432x288 with 1 Axes>"
      ]
     },
     "metadata": {
      "needs_background": "light"
     },
     "output_type": "display_data"
    }
   ],
   "source": [
    "plt.hist(Y_pred, bins=10, range=None, normed=None, weights=None, density=None)"
   ]
  },
  {
   "cell_type": "markdown",
   "metadata": {},
   "source": [
    "Decoding the classes 0,1,2,3 to 0,2,3,6 again using a function. These were the original classes to predict in the problem"
   ]
  },
  {
   "cell_type": "code",
   "execution_count": 288,
   "metadata": {},
   "outputs": [],
   "source": [
    "def func(b):\n",
    "    if(b==0):\n",
    "        return 0\n",
    "    if(b==1):\n",
    "        return 2\n",
    "    if(b==2):\n",
    "        return 3\n",
    "    if(b==3):\n",
    "        return 6\n",
    "    \n",
    "Y_pred = np.vectorize(func)(Y_pred)"
   ]
  },
  {
   "cell_type": "markdown",
   "metadata": {},
   "source": [
    "Got the required Y_pred array which predict the class for given test data (df_test.pkl)"
   ]
  },
  {
   "cell_type": "code",
   "execution_count": 289,
   "metadata": {},
   "outputs": [
    {
     "data": {
      "text/plain": [
       "array([0, 0, 0, ..., 6, 6, 6])"
      ]
     },
     "execution_count": 289,
     "metadata": {},
     "output_type": "execute_result"
    }
   ],
   "source": [
    "Y_pred"
   ]
  },
  {
   "cell_type": "code",
   "execution_count": 290,
   "metadata": {},
   "outputs": [
    {
     "data": {
      "text/plain": [
       "(array([532.,   0.,   0., 511.,   0., 491.,   0.,   0.,   0., 466.]),\n",
       " array([0. , 0.6, 1.2, 1.8, 2.4, 3. , 3.6, 4.2, 4.8, 5.4, 6. ]),\n",
       " <a list of 10 Patch objects>)"
      ]
     },
     "execution_count": 290,
     "metadata": {},
     "output_type": "execute_result"
    },
    {
     "data": {
      "image/png": "[encoded data removed]",
      "text/plain": [
       "<Figure size 432x288 with 1 Axes>"
      ]
     },
     "metadata": {
      "needs_background": "light"
     },
     "output_type": "display_data"
    }
   ],
   "source": [
    "plt.hist(Y_pred, bins=10, range=None, normed=None, weights=None, density=None)"
   ]
  },
  {
   "cell_type": "markdown",
   "metadata": {},
   "source": [
    "Checking the results. For eg. test example number 1000 predicted a pullover"
   ]
  },
  {
   "cell_type": "code",
   "execution_count": 232,
   "metadata": {},
   "outputs": [
    {
     "data": {
      "text/plain": [
       "2"
      ]
     },
     "execution_count": 232,
     "metadata": {},
     "output_type": "execute_result"
    }
   ],
   "source": [
    "Y_pred[999]"
   ]
  },
  {
   "cell_type": "markdown",
   "metadata": {},
   "source": [
    "Getting the image of test example 1000 and the prediction of Pullover was right"
   ]
  },
  {
   "cell_type": "code",
   "execution_count": 233,
   "metadata": {},
   "outputs": [
    {
     "data": {
      "text/plain": [
       "<matplotlib.image.AxesImage at 0x1ae17183a58>"
      ]
     },
     "execution_count": 233,
     "metadata": {},
     "output_type": "execute_result"
    },
    {
     "data": {
      "image/png": "[encoded data removed]",
      "text/plain": [
       "<Figure size 432x288 with 1 Axes>"
      ]
     },
     "metadata": {
      "needs_background": "light"
     },
     "output_type": "display_data"
    }
   ],
   "source": [
    "plt.imshow(np.array(df_test[999]).reshape((28, 28)), cmap=cm.Greys_r)"
   ]
  },
  {
   "cell_type": "markdown",
   "metadata": {},
   "source": [
    "Similarly checking on some more test examples like T-shirt"
   ]
  },
  {
   "cell_type": "code",
   "execution_count": 234,
   "metadata": {},
   "outputs": [
    {
     "data": {
      "text/plain": [
       "<matplotlib.image.AxesImage at 0x1ae172830b8>"
      ]
     },
     "execution_count": 234,
     "metadata": {},
     "output_type": "execute_result"
    },
    {
     "data": {
      "image/png": "[encoded data removed]",
      "text/plain": [
       "<Figure size 432x288 with 1 Axes>"
      ]
     },
     "metadata": {
      "needs_background": "light"
     },
     "output_type": "display_data"
    }
   ],
   "source": [
    "plt.imshow(np.array(df_test[0]).reshape((28, 28)), cmap=cm.Greys_r)"
   ]
  },
  {
   "cell_type": "code",
   "execution_count": 235,
   "metadata": {},
   "outputs": [
    {
     "data": {
      "text/plain": [
       "0"
      ]
     },
     "execution_count": 235,
     "metadata": {},
     "output_type": "execute_result"
    }
   ],
   "source": [
    "Y_pred[0]"
   ]
  },
  {
   "cell_type": "markdown",
   "metadata": {},
   "source": [
    "Class 3 is a dress while class 0 is a T-shirt and class 2 is a Pullover"
   ]
  },
  {
   "cell_type": "code",
   "execution_count": 237,
   "metadata": {},
   "outputs": [
    {
     "data": {
      "text/plain": [
       "6"
      ]
     },
     "execution_count": 237,
     "metadata": {},
     "output_type": "execute_result"
    }
   ],
   "source": [
    "Y_pred[1999]"
   ]
  },
  {
   "cell_type": "code",
   "execution_count": 239,
   "metadata": {},
   "outputs": [
    {
     "data": {
      "text/plain": [
       "<matplotlib.image.AxesImage at 0x1ae172f3ef0>"
      ]
     },
     "execution_count": 239,
     "metadata": {},
     "output_type": "execute_result"
    },
    {
     "data": {
      "image/png": "[encoded data removed]",
      "text/plain": [
       "<Figure size 432x288 with 1 Axes>"
      ]
     },
     "metadata": {
      "needs_background": "light"
     },
     "output_type": "display_data"
    }
   ],
   "source": [
    "plt.imshow(np.array(df_test[1000]).reshape((28, 28)), cmap=cm.Greys_r)"
   ]
  },
  {
   "cell_type": "markdown",
   "metadata": {},
   "source": [
    "### SUBMISSION"
   ]
  },
  {
   "cell_type": "markdown",
   "metadata": {},
   "source": [
    "Reshaping Y_pred Numpy array to (2000,1) for submission"
   ]
  },
  {
   "cell_type": "code",
   "execution_count": 260,
   "metadata": {},
   "outputs": [],
   "source": [
    "Y_pred=Y_pred.reshape((2000,1))"
   ]
  },
  {
   "cell_type": "markdown",
   "metadata": {},
   "source": [
    "Creating an index column to be added in a submission file"
   ]
  },
  {
   "cell_type": "code",
   "execution_count": 281,
   "metadata": {},
   "outputs": [],
   "source": [
    "indexn = np.arange(2000)"
   ]
  },
  {
   "cell_type": "code",
   "execution_count": 282,
   "metadata": {},
   "outputs": [
    {
     "data": {
      "text/plain": [
       "array([   0,    1,    2, ..., 1997, 1998, 1999])"
      ]
     },
     "execution_count": 282,
     "metadata": {},
     "output_type": "execute_result"
    }
   ],
   "source": [
    "indexn"
   ]
  },
  {
   "cell_type": "markdown",
   "metadata": {},
   "source": [
    "Create a csv file which will contain Test_Image_Index and Predicted_class"
   ]
  },
  {
   "cell_type": "code",
   "execution_count": 291,
   "metadata": {},
   "outputs": [],
   "source": [
    "submission = pd.DataFrame({\n",
    "        \"Test_image_index\": indexn,\n",
    "        \"predicted_class\": Y_pred\n",
    "    })\n",
    "submission.to_csv('Hardik Airen.csv', index=False)"
   ]
  }
 ],
 "metadata": {
  "kernelspec": {
   "display_name": "Python 3",
   "language": "python",
   "name": "python3"
  },
  "language_info": {
   "codemirror_mode": {
    "name": "ipython",
    "version": 3
   },
   "file_extension": ".py",
   "mimetype": "text/x-python",
   "name": "python",
   "nbconvert_exporter": "python",
   "pygments_lexer": "ipython3",
   "version": "3.6.8"
  }
 },
 "nbformat": 4,
 "nbformat_minor": 2
}
